{
 "cells": [
  {
   "cell_type": "code",
   "execution_count": 14,
   "id": "d32bdb37",
   "metadata": {},
   "outputs": [],
   "source": [
    "import pandas as pd\n",
    "import numpy as np\n",
    "import requests\n",
    "import ScraperFC"
   ]
  },
  {
   "cell_type": "code",
   "execution_count": 20,
   "id": "b9d0ee2d",
   "metadata": {},
   "outputs": [],
   "source": [
    "fbref = ScraperFC.FBRef()\n",
    "under = ScraperFC.Understat()"
   ]
  },
  {
   "cell_type": "code",
   "execution_count": 16,
   "id": "e87bfa14",
   "metadata": {},
   "outputs": [],
   "source": [
    "seasons = [2021]"
   ]
  },
  {
   "cell_type": "code",
   "execution_count": null,
   "id": "f9046965",
   "metadata": {},
   "outputs": [
    {
     "name": "stderr",
     "output_type": "stream",
     "text": [
      " 41%|████████████████▉                        | 157/380 [06:55<09:47,  2.64s/it]"
     ]
    }
   ],
   "source": [
    "for season in seasons:\n",
    "\n",
    "    underMatches = under.scrape_matches(season+1,'EPL')\n",
    "    underMatches.to_csv('/Users/moksh/PL Predictions/UnderStatDfs/UnderStat{year}Season.csv'.format(year=season))\n",
    "    "
   ]
  },
  {
   "cell_type": "code",
   "execution_count": null,
   "id": "369b3e11",
   "metadata": {},
   "outputs": [],
   "source": []
  },
  {
   "cell_type": "code",
   "execution_count": null,
   "id": "29052fa9",
   "metadata": {},
   "outputs": [],
   "source": []
  },
  {
   "cell_type": "code",
   "execution_count": null,
   "id": "abf2edb2",
   "metadata": {},
   "outputs": [],
   "source": []
  },
  {
   "cell_type": "code",
   "execution_count": null,
   "id": "ce21880c",
   "metadata": {},
   "outputs": [],
   "source": []
  }
 ],
 "metadata": {
  "kernelspec": {
   "display_name": "Python 3 (ipykernel)",
   "language": "python",
   "name": "python3"
  },
  "language_info": {
   "codemirror_mode": {
    "name": "ipython",
    "version": 3
   },
   "file_extension": ".py",
   "mimetype": "text/x-python",
   "name": "python",
   "nbconvert_exporter": "python",
   "pygments_lexer": "ipython3",
   "version": "3.10.6"
  }
 },
 "nbformat": 4,
 "nbformat_minor": 5
}
